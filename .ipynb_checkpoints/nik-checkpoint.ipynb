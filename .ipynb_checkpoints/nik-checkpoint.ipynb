{
 "cells": [
  {
   "cell_type": "code",
   "execution_count": 1,
   "id": "39953da0",
   "metadata": {},
   "outputs": [
    {
     "name": "stdout",
     "output_type": "stream",
     "text": [
      "Requirement already satisfied: numpy in e:\\piyush\\anaconda\\lib\\site-packages (1.23.5)\n",
      "Requirement already satisfied: pandas in e:\\piyush\\anaconda\\lib\\site-packages (1.5.3)\n",
      "Requirement already satisfied: scikit-learn in e:\\piyush\\anaconda\\lib\\site-packages (1.2.1)\n",
      "Requirement already satisfied: matplotlib in e:\\piyush\\anaconda\\lib\\site-packages (3.7.0)\n",
      "Requirement already satisfied: python-dateutil>=2.8.1 in e:\\piyush\\anaconda\\lib\\site-packages (from pandas) (2.8.2)\n",
      "Requirement already satisfied: pytz>=2020.1 in e:\\piyush\\anaconda\\lib\\site-packages (from pandas) (2022.7)\n",
      "Requirement already satisfied: scipy>=1.3.2 in e:\\piyush\\anaconda\\lib\\site-packages (from scikit-learn) (1.10.0)\n",
      "Requirement already satisfied: joblib>=1.1.1 in e:\\piyush\\anaconda\\lib\\site-packages (from scikit-learn) (1.1.1)\n",
      "Requirement already satisfied: threadpoolctl>=2.0.0 in e:\\piyush\\anaconda\\lib\\site-packages (from scikit-learn) (2.2.0)\n",
      "Requirement already satisfied: pillow>=6.2.0 in e:\\piyush\\anaconda\\lib\\site-packages (from matplotlib) (9.4.0)\n",
      "Requirement already satisfied: pyparsing>=2.3.1 in e:\\piyush\\anaconda\\lib\\site-packages (from matplotlib) (3.0.9)\n",
      "Requirement already satisfied: contourpy>=1.0.1 in e:\\piyush\\anaconda\\lib\\site-packages (from matplotlib) (1.0.5)\n",
      "Requirement already satisfied: packaging>=20.0 in e:\\piyush\\anaconda\\lib\\site-packages (from matplotlib) (22.0)\n",
      "Requirement already satisfied: cycler>=0.10 in e:\\piyush\\anaconda\\lib\\site-packages (from matplotlib) (0.11.0)\n",
      "Requirement already satisfied: fonttools>=4.22.0 in e:\\piyush\\anaconda\\lib\\site-packages (from matplotlib) (4.25.0)\n",
      "Requirement already satisfied: kiwisolver>=1.0.1 in e:\\piyush\\anaconda\\lib\\site-packages (from matplotlib) (1.4.4)\n",
      "Requirement already satisfied: six>=1.5 in e:\\piyush\\anaconda\\lib\\site-packages (from python-dateutil>=2.8.1->pandas) (1.16.0)\n",
      "Note: you may need to restart the kernel to use updated packages.\n"
     ]
    }
   ],
   "source": [
    "pip install numpy pandas scikit-learn matplotlib\n"
   ]
  },
  {
   "cell_type": "code",
   "execution_count": 7,
   "id": "4a9e6c5f",
   "metadata": {},
   "outputs": [],
   "source": [
    "import numpy as np\n",
    "import pandas as pd\n",
    "from sklearn.model_selection import train_test_split\n",
    "from sklearn.linear_model import LinearRegression\n",
    "from sklearn.metrics import mean_squared_error\n",
    "\n",
    "# Generate synthetic data\n",
    "np.random.seed(42)  # For reproducibility\n",
    "N = 1000  # Number of samples\n",
    "weights = np.random.uniform(50, 120, N)  # Weight in kg\n",
    "heights = np.random.uniform(150, 200, N)  # Height in cm\n",
    "ages = np.random.uniform(18, 65, N)  # Age in years\n",
    "# Synthetic relationship for arm length\n",
    "arm_lengths = 0.5 * heights + 0.2 * weights - 0.1 * ages + np.random.normal(0, 5, N)\n",
    "waist_sizes = 0.3 * heights + 0.5 * weights + np.random.normal(0, 5, N)  # Simplified relationship\n",
    "chest_sizes = 0.35 * heights + 0.45 * weights + np.random.normal(0, 5, N)\n",
    "leg_lengths = 0.45 * heights + 0.25 * weights - 0.05 * ages + np.random.normal(0, 5, N)\n",
    "\n",
    "\n",
    "# Create a DataFrame\n",
    "df = pd.DataFrame({\n",
    "    'Weight': weights,\n",
    "    'Height': heights,\n",
    "    'Age': ages,\n",
    "    'Arm_Length': arm_lengths,\n",
    "    'Waist_Size': waist_sizes,\n",
    "    'Chest_Size': chest_sizes,\n",
    "    'leg_lengths': leg_lengths\n",
    "})\n",
    "\n",
    "# Split the data into training and testing sets\n",
    "X = df[['Weight', 'Height', 'Age']]\n",
    "y = df[['Arm_Length', 'Waist_Size', 'Chest_Size', 'leg_lengths']]\n",
    "X_train, X_test, y_train, y_test = train_test_split(X, y, test_size=0.2, random_state=42)"
   ]
  },
  {
   "cell_type": "code",
   "execution_count": 11,
   "id": "451a7613",
   "metadata": {},
   "outputs": [
    {
     "name": "stdout",
     "output_type": "stream",
     "text": [
      "Mean Squared Error for Arm Length: 27.754533189209774\n",
      "Mean Squared Error for Waist Size: 28.24244718711851\n",
      "Mean Squared Error for Chest Size: 23.228977349406545\n",
      "Mean Squared Error for leg length: 28.595852895580492\n"
     ]
    }
   ],
   "source": [
    "# Train the model\n",
    "model = LinearRegression()\n",
    "model.fit(X_train, y_train)\n",
    "\n",
    "# Make predictions\n",
    "y_pred = model.predict(X_test)\n",
    "\n",
    "# Evaluate the model - we'll compute MSE for each output\n",
    "mse_arm_length = mean_squared_error(y_test['Arm_Length'], y_pred[:, 0])\n",
    "mse_waist_size = mean_squared_error(y_test['Waist_Size'], y_pred[:, 1])\n",
    "mse_chest_size = mean_squared_error(y_test['Chest_Size'], y_pred[:, 2])\n",
    "mse_leg_lengths = mean_squared_error(y_test['leg_lengths'], y_pred[:, 3])\n",
    "\n",
    "print(f\"Mean Squared Error for Arm Length: {mse_arm_length}\")\n",
    "print(f\"Mean Squared Error for Waist Size: {mse_waist_size}\")\n",
    "print(f\"Mean Squared Error for Chest Size: {mse_chest_size}\")\n",
    "print(f\"Mean Squared Error for leg length: {mse_leg_lengths}\")\n",
    "\n"
   ]
  },
  {
   "cell_type": "code",
   "execution_count": 12,
   "id": "c2240785",
   "metadata": {},
   "outputs": [
    {
     "name": "stdout",
     "output_type": "stream",
     "text": [
      "Predicted Measurements - Arm Length: 86.38392859037445 cm, Waist Size: 76.36273529910763 cm, Chest Size: 81.16930583232262 cm,leg length: 83.00823063049627 cm\n"
     ]
    }
   ],
   "source": [
    "# New data\n",
    "new_data = pd.DataFrame({\n",
    "    'Weight': [60],  # Example weight in kg\n",
    "    'Height': [155],  # Example height in cm\n",
    "    'Age': [39]  # Example age in years\n",
    "})\n",
    "predicted_measurements = model.predict(new_data)\n",
    "print(f\"Predicted Measurements - Arm Length: {predicted_measurements[0][0]} cm, Waist Size: {predicted_measurements[0][1]} cm, Chest Size: {predicted_measurements[0][2]} cm,leg length: {predicted_measurements[0][3]} cm\")\n"
   ]
  },
  {
   "cell_type": "code",
   "execution_count": 13,
   "id": "dce5c20e",
   "metadata": {},
   "outputs": [
    {
     "data": {
      "text/plain": [
       "0.768418320235858"
      ]
     },
     "execution_count": 13,
     "metadata": {},
     "output_type": "execute_result"
    }
   ],
   "source": [
    "model.score(X_test,y_test)"
   ]
  },
  {
   "cell_type": "code",
   "execution_count": null,
   "id": "ffb843f4",
   "metadata": {},
   "outputs": [],
   "source": []
  }
 ],
 "metadata": {
  "kernelspec": {
   "display_name": "Python 3 (ipykernel)",
   "language": "python",
   "name": "python3"
  },
  "language_info": {
   "codemirror_mode": {
    "name": "ipython",
    "version": 3
   },
   "file_extension": ".py",
   "mimetype": "text/x-python",
   "name": "python",
   "nbconvert_exporter": "python",
   "pygments_lexer": "ipython3",
   "version": "3.10.9"
  }
 },
 "nbformat": 4,
 "nbformat_minor": 5
}
